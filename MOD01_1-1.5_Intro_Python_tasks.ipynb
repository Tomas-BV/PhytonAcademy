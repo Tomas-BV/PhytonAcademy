{
 "cells": [
  {
   "cell_type": "markdown",
   "metadata": {
    "collapsed": false
   },
   "source": [
    "<font size=\"6\" color=\"#B24C00\"  face=\"verdana\"> <B>Extra Task</B></font>  \n",
    "- create the flying bird in character art in the Code cell below\n",
    "\n",
    "```\n",
    "\n",
    "_         _      \n",
    " \\       /     \n",
    "  \\ . . /   \n",
    "     V   \n",
    "\n",
    "```  \n"
   ]
  },
  {
   "cell_type": "code",
   "execution_count": null,
   "metadata": {
    "collapsed": false
   },
   "outputs": [],
   "source": [
    "# flying bird character art \n",
    "print(\"_         _ \")\n",
    "print(\" \\       / \")\n",
    "print(\"  \\ . . /  \")\n",
    "print(\"     V   \")\n",
    "print()"
   ]
  },
  {
   "cell_type": "markdown",
   "metadata": {},
   "source": [
    "<font size=\"4\" color=\"#B24C00\"  face=\"verdana\"> <B>Extra Task cont...</B></font>  \n",
    "- create the capital letter \"E\" in character art in the Code cell below"
   ]
  },
  {
   "cell_type": "code",
   "execution_count": null,
   "metadata": {
    "collapsed": false
   },
   "outputs": [],
   "source": [
    "# [ ] capital letter \"E\" character art\n",
    "print(\"EEEE\") \n",
    "print(\"E\")    \n",
    "print(\"EEE\")  \n",
    "print(\"E\")\n",
    "print(\"EEEE\")\n",
    "print()"
   ]
  }
 ],
 "metadata": {
  "anaconda-cloud": {},
  "kernelspec": {
   "display_name": "Python 3",
   "language": "python",
   "name": "python3"
  },
  "language_info": {
   "codemirror_mode": {
    "name": "ipython",
    "version": 3
   },
   "file_extension": ".py",
   "mimetype": "text/x-python",
   "name": "python",
   "nbconvert_exporter": "python",
   "pygments_lexer": "ipython3",
   "version": "3.5.2"
  }
 },
 "nbformat": 4,
 "nbformat_minor": 0
}
