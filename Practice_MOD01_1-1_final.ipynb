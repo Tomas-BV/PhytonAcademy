{
 "cells": [
  {
   "cell_type": "code",
   "execution_count": 1,
   "metadata": {},
   "outputs": [
    {
     "name": "stdout",
     "output_type": "stream",
     "text": [
      "Hello!\n"
     ]
    }
   ],
   "source": [
    "# [ ] print 'Hello!' and remember to save notebook!\n",
    "print('Hello!')"
   ]
  },
  {
   "cell_type": "markdown",
   "metadata": {},
   "source": [
    "#### run the cell below   \n",
    "- [ ] use **Ctrl + Enter**  \n",
    "- [ ] use **Shift + Enter**    "
   ]
  },
  {
   "cell_type": "code",
   "execution_count": 2,
   "metadata": {},
   "outputs": [
    {
     "name": "stdout",
     "output_type": "stream",
     "text": [
      "watch for the cat\n"
     ]
    }
   ],
   "source": [
    "print('watch for the cat')"
   ]
  },
  {
   "cell_type": "markdown",
   "metadata": {},
   "source": [
    "#### Tomas Notebook editing\n",
    "- [ ] Edit **this** notebook Markdown cell replacing the word \"Student's\" above with your name\n",
    "- [ ] Run the cell to display the formatted text\n",
    "- [ ] Run any 'markdown' cells that are in edit mode, so they are easier to read"
   ]
  },
  {
   "cell_type": "code",
   "execution_count": 3,
   "metadata": {},
   "outputs": [
    {
     "name": "stdout",
     "output_type": "stream",
     "text": [
      "Run as a code cell\n"
     ]
    }
   ],
   "source": [
    "# [ ] converted \\*this\\* cell from markdown to a code cell and clicked \"Run\"\n",
    "print('Run as a code cell')"
   ]
  },
  {
   "cell_type": "markdown",
   "metadata": {},
   "source": [
    "##  # comments\n",
    "create a code comment that identifies this notebook, containing your name and the date"
   ]
  },
  {
   "cell_type": "code",
   "execution_count": null,
   "metadata": {
    "collapsed": true
   },
   "outputs": [],
   "source": [
    "# this is Tomas Taskauskas Jupyter Notebook, 2018-10-24"
   ]
  },
  {
   "cell_type": "markdown",
   "metadata": {},
   "source": [
    "#### use print() to \n",
    "- [ ] print [**your_name**]\n",
    "- [ ] print **is using python!**"
   ]
  },
  {
   "cell_type": "code",
   "execution_count": 5,
   "metadata": {},
   "outputs": [
    {
     "name": "stdout",
     "output_type": "stream",
     "text": [
      "Tomas Taskauskas\n",
      "is using Python\n"
     ]
    }
   ],
   "source": [
    "# [ ] print your name\n",
    "print(\"Tomas Taskauskas\")\n",
    "# [ ] print \"is using Python!\"\n",
    "print(\"is using Python!\")\n"
   ]
  },
  {
   "cell_type": "markdown",
   "metadata": {},
   "source": [
    "Output above should be:  \n",
    "`Your Name  \n",
    "is using Python!`  "
   ]
  },
  {
   "cell_type": "markdown",
   "metadata": {},
   "source": [
    "#### use variables in print()\n",
    "- [ ] create a variable **your_name** and assign it a string containing your name\n",
    "- [ ] print **your_name**"
   ]
  },
  {
   "cell_type": "code",
   "execution_count": 6,
   "metadata": {},
   "outputs": [
    {
     "name": "stdout",
     "output_type": "stream",
     "text": [
      "Tomas Taskauskas\n"
     ]
    }
   ],
   "source": [
    "# [ ] create a variable your_name and assign it a sting containing your name\n",
    "your_name = \"Tomas Taskauskas\"\n",
    "#[ ] print your_name\n",
    "print(your_name)\n"
   ]
  },
  {
   "cell_type": "markdown",
   "metadata": {},
   "source": [
    "#### create more string variables\n",
    "- **[ ]** create variables as directed below\n",
    "- **[ ]** print the variables"
   ]
  },
  {
   "cell_type": "code",
   "execution_count": 10,
   "metadata": {},
   "outputs": [
    {
     "name": "stdout",
     "output_type": "stream",
     "text": [
      "Bastille, Rhythm of the night 43 22\n"
     ]
    }
   ],
   "source": [
    "# [ ] create variables and assign values for: favorite_song, shoe_size, lucky_number\n",
    "favorite_song = \"Bastille, Rhythm of the night\"\n",
    "shoe_size = \"43\"\n",
    "lucky_number = \"22\"\n",
    "\n",
    "# [ ] print the value of each variable favorite_song, shoe_size, and lucky_number\n",
    "print(favorite_song, shoe_size, lucky_number)\n"
   ]
  },
  {
   "cell_type": "markdown",
   "metadata": {},
   "source": [
    "#### use string addition\n",
    "- **[ ]**  print the above string variables (favorite_song, shoe_size, lucky_number) combined with a description by using **string addition**\n",
    ">for example favorite_song displayed as:  \n",
    "`favorite song is happy birthday`"
   ]
  },
  {
   "cell_type": "code",
   "execution_count": 22,
   "metadata": {},
   "outputs": [
    {
     "name": "stdout",
     "output_type": "stream",
     "text": [
      "Bastille, Rhythm of the night is my favotire song before the late shift\n",
      "43 is the size I prefer for shoes\n",
      "22 my luckiest number ever\n"
     ]
    }
   ],
   "source": [
    "# [ ] print favorite_song with description\n",
    "print(favorite_song + \" is my favotire song before the late shift\")\n",
    "\n",
    "# [ ] print shoe_size with description\n",
    "print(shoe_size + \" is the size I prefer for shoes\")\n",
    "\n",
    "# [ ] print lucky_number with description\n",
    "print(lucky_number + \" my luckiest number ever\")\n"
   ]
  },
  {
   "cell_type": "markdown",
   "metadata": {},
   "source": [
    "##### more string addition\n",
    "- **[ ]** make a single string (sentence) in a variable called favorite_lucky_shoe using **string addition** with favorite_song, shoe_size, lucky_number variables and other strings as needed \n",
    "- **[ ]** print the value of the favorite_lucky_shoe variable string\n",
    "> sample output:  \n",
    "`For singing happy birthday 8.5 times, you will be fined $25`"
   ]
  },
  {
   "cell_type": "code",
   "execution_count": 25,
   "metadata": {},
   "outputs": [
    {
     "name": "stdout",
     "output_type": "stream",
     "text": [
      "When listening to Bastille, Rhythm of the night, I though about you 22 times, no 43\n"
     ]
    }
   ],
   "source": [
    "# assign favorite_lucky_shoe using\n",
    "favorite_lucky_shoe = \"When listening to \" + favorite_song + \", I though about you \" + lucky_number + \" times, no \" + shoe_size\n",
    "print(favorite_lucky_shoe)\n",
    "\n"
   ]
  },
  {
   "cell_type": "markdown",
   "metadata": {},
   "source": [
    "### print() art"
   ]
  },
  {
   "cell_type": "markdown",
   "metadata": {},
   "source": [
    "#### use `print()` and the asterisk **\\*** to create the following shapes\n",
    "- [ ] diagonal line  \n",
    "- [ ] rectangle  \n",
    "- [ ] smiley face"
   ]
  },
  {
   "cell_type": "code",
   "execution_count": 27,
   "metadata": {},
   "outputs": [
    {
     "name": "stdout",
     "output_type": "stream",
     "text": [
      "*     \n",
      " *    \n",
      "  *   \n",
      "   *  \n",
      "    * \n",
      "     *\n",
      "\n",
      "*****\n",
      "*   *\n",
      "*   *\n",
      "*   *\n",
      "*****\n",
      "                     ***                  ***\n",
      "                    *****                *****\n",
      "                    *****                *****\n",
      "                     ***                  ***\n",
      "          ***                                        ***\n",
      "           ***                                      ***\n",
      "            ***                                    ***\n",
      "             ***                                  ***\n",
      "               ***                              ***\n",
      "                 ***                          ***\n",
      "                   ***                      ***\n",
      "                      **********************\n",
      "                      **********************\n",
      "                         ****************\n",
      "\n"
     ]
    }
   ],
   "source": [
    "# [ ] print a diagonal using \"*\"\n",
    "print(\"*     \")\n",
    "print(\" *    \")\n",
    "print(\"  *   \")\n",
    "print(\"   *  \")\n",
    "print(\"    * \")\n",
    "print(\"     *\")\n",
    "print()\n",
    "\n",
    "# [ ] rectangle using \"*\"\n",
    "print(\"*****\")\n",
    "print(\"*   *\")\n",
    "print(\"*   *\")\n",
    "print(\"*   *\")\n",
    "print(\"*****\")\n",
    "\n",
    "\n",
    "# [ ] smiley using \"*\"\n",
    "print(\"                     ***                  ***\")\n",
    "print(\"                    *****                *****\")\n",
    "print(\"                    *****                *****\")\n",
    "print(\"                     ***                  ***\")\n",
    "print(\"          ***                                        ***\")\n",
    "print(\"           ***                                      ***\")\n",
    "print(\"            ***                                    ***\")\n",
    "print(\"             ***                                  ***\")\n",
    "print(\"               ***                              ***\")\n",
    "print(\"                 ***                          ***\")\n",
    "print(\"                   ***                      ***\")\n",
    "print(\"                      **********************\")\n",
    "print(\"                      **********************\")\n",
    "print(\"                         ****************\")\n",
    "print()"
   ]
  },
  {
   "cell_type": "markdown",
   "metadata": {},
   "source": [
    "#### Using `type()`\n",
    "-**[ ]** calulate the *type* using `type()`"
   ]
  },
  {
   "cell_type": "code",
   "execution_count": 28,
   "metadata": {},
   "outputs": [
    {
     "data": {
      "text/plain": [
       "str"
      ]
     },
     "execution_count": 28,
     "metadata": {},
     "output_type": "execute_result"
    }
   ],
   "source": [
    "# [ ] display the type of 'your name' (use single quotes)\n",
    "type('Tomas Taskauskas')\n",
    "\n"
   ]
  },
  {
   "cell_type": "code",
   "execution_count": 29,
   "metadata": {},
   "outputs": [
    {
     "data": {
      "text/plain": [
       "str"
      ]
     },
     "execution_count": 29,
     "metadata": {},
     "output_type": "execute_result"
    }
   ],
   "source": [
    "# [ ] display the type of \"save your notebook!\" (use double quotes)\n",
    "\n",
    "type(\"save your notebook!\")\n"
   ]
  },
  {
   "cell_type": "code",
   "execution_count": 30,
   "metadata": {},
   "outputs": [
    {
     "data": {
      "text/plain": [
       "str"
      ]
     },
     "execution_count": 30,
     "metadata": {},
     "output_type": "execute_result"
    }
   ],
   "source": [
    "# [ ] display the type of \"25\" (use quotes)\n",
    "type(\"25\")\n",
    "\n"
   ]
  },
  {
   "cell_type": "code",
   "execution_count": 31,
   "metadata": {},
   "outputs": [
    {
     "data": {
      "text/plain": [
       "str"
      ]
     },
     "execution_count": 31,
     "metadata": {},
     "output_type": "execute_result"
    }
   ],
   "source": [
    "# [ ] display the type of \"save your notebook \" + 'your name'\n",
    "\n",
    "type(\"save your notebook \" + 'Tomas Taskauskas')\n",
    "\n"
   ]
  },
  {
   "cell_type": "code",
   "execution_count": 32,
   "metadata": {},
   "outputs": [
    {
     "data": {
      "text/plain": [
       "int"
      ]
     },
     "execution_count": 32,
     "metadata": {},
     "output_type": "execute_result"
    }
   ],
   "source": [
    "# [ ] display the type of 25 (no quotes)\n",
    "\n",
    "type(25)\n"
   ]
  },
  {
   "cell_type": "code",
   "execution_count": 33,
   "metadata": {},
   "outputs": [
    {
     "data": {
      "text/plain": [
       "int"
      ]
     },
     "execution_count": 33,
     "metadata": {},
     "output_type": "execute_result"
    }
   ],
   "source": [
    "# [ ] display the type of 25 + 10 \n",
    "type(25 + 10)\n",
    "\n"
   ]
  },
  {
   "cell_type": "code",
   "execution_count": 34,
   "metadata": {},
   "outputs": [
    {
     "data": {
      "text/plain": [
       "float"
      ]
     },
     "execution_count": 34,
     "metadata": {},
     "output_type": "execute_result"
    }
   ],
   "source": [
    "# [ ] display the type of 1.55\n",
    "\n",
    "type(1.55)\n"
   ]
  },
  {
   "cell_type": "code",
   "execution_count": 35,
   "metadata": {},
   "outputs": [
    {
     "data": {
      "text/plain": [
       "float"
      ]
     },
     "execution_count": 35,
     "metadata": {},
     "output_type": "execute_result"
    }
   ],
   "source": [
    "# [ ] display the type of 1.55 + 25\n",
    "\n",
    "type(1.55 +25)\n"
   ]
  },
  {
   "cell_type": "markdown",
   "metadata": {},
   "source": [
    "#### Find the type of variables\n",
    "- **[ ]** run the cell below to make the variables available to be used in other code\n",
    "- **[ ]** display the data type as directed in the cells that follow"
   ]
  },
  {
   "cell_type": "code",
   "execution_count": 36,
   "metadata": {},
   "outputs": [],
   "source": [
    "# assignments ***RUN THIS CELL*** before starting the section\n",
    "\n",
    "student_name = \"Gus\"\n",
    "student_age = 16\n",
    "student_grade = 3.5\n",
    "student_id = \"ABC-000-000\"\n"
   ]
  },
  {
   "cell_type": "code",
   "execution_count": 37,
   "metadata": {},
   "outputs": [
    {
     "data": {
      "text/plain": [
       "str"
      ]
     },
     "execution_count": 37,
     "metadata": {},
     "output_type": "execute_result"
    }
   ],
   "source": [
    "# [ ] display the current type of the variable student_name\n",
    "type(student_name)\n",
    "\n"
   ]
  },
  {
   "cell_type": "code",
   "execution_count": 38,
   "metadata": {},
   "outputs": [
    {
     "data": {
      "text/plain": [
       "int"
      ]
     },
     "execution_count": 38,
     "metadata": {},
     "output_type": "execute_result"
    }
   ],
   "source": [
    "# [ ] display the type of student_age\n",
    "type(student_age)\n",
    "\n"
   ]
  },
  {
   "cell_type": "code",
   "execution_count": 39,
   "metadata": {},
   "outputs": [
    {
     "data": {
      "text/plain": [
       "float"
      ]
     },
     "execution_count": 39,
     "metadata": {},
     "output_type": "execute_result"
    }
   ],
   "source": [
    "# [ ] display the type of student_grade\n",
    "\n",
    "type(student_grade)\n"
   ]
  },
  {
   "cell_type": "code",
   "execution_count": 41,
   "metadata": {},
   "outputs": [
    {
     "data": {
      "text/plain": [
       "float"
      ]
     },
     "execution_count": 41,
     "metadata": {},
     "output_type": "execute_result"
    }
   ],
   "source": [
    "# [ ] display the type of student_age + student_grade\n",
    "type(student_age + student_grade)\n",
    "\n"
   ]
  },
  {
   "cell_type": "code",
   "execution_count": 42,
   "metadata": {},
   "outputs": [
    {
     "data": {
      "text/plain": [
       "str"
      ]
     },
     "execution_count": 42,
     "metadata": {},
     "output_type": "execute_result"
    }
   ],
   "source": [
    "# [ ] display the current type of student_id\n",
    "type(student_id)\n",
    "\n"
   ]
  },
  {
   "cell_type": "code",
   "execution_count": 43,
   "metadata": {},
   "outputs": [
    {
     "name": "stdout",
     "output_type": "stream",
     "text": [
      "LTU-222-321\n"
     ]
    }
   ],
   "source": [
    "# assign new value to student_id \n",
    "student_id = \"LTU-222-321\"\n",
    "\n",
    "# [ ] display the current of student_id\n",
    "print(student_id)\n",
    "\n"
   ]
  },
  {
   "cell_type": "markdown",
   "metadata": {
    "collapsed": true
   },
   "source": [
    "#### number integer addition\n",
    "\n",
    "- **[ ]** create variables (x, y, z) with integer values"
   ]
  },
  {
   "cell_type": "code",
   "execution_count": 45,
   "metadata": {},
   "outputs": [],
   "source": [
    "# [ ] create integer variables (x, y, z) and assign them 1-3 digit integers (no decimals - no quotes)\n",
    "x = 3\n",
    "y = 1\n",
    "z = 2"
   ]
  },
  {
   "cell_type": "markdown",
   "metadata": {},
   "source": [
    "- **[ ]** insert a **code cell** below\n",
    "- **[ ]** create an integer variable named **xyz_sum** equal to the sum of x, y, and z\n",
    "- **[ ]** print the value of **xyz_sum** "
   ]
  },
  {
   "cell_type": "code",
   "execution_count": 46,
   "metadata": {},
   "outputs": [
    {
     "name": "stdout",
     "output_type": "stream",
     "text": [
      "6\n"
     ]
    }
   ],
   "source": [
    "xyz_sum = x + y + z\n",
    "print(xyz_sum)\n"
   ]
  },
  {
   "cell_type": "markdown",
   "metadata": {},
   "source": [
    "### Errors\n",
    "- **[ ]** troubleshoot and fix the errors below"
   ]
  },
  {
   "cell_type": "code",
   "execution_count": 16,
   "metadata": {},
   "outputs": [
    {
     "name": "stdout",
     "output_type": "stream",
     "text": [
      "Hello World!\n"
     ]
    }
   ],
   "source": [
    "# [ ] fix the error \n",
    "\n",
    "print(\"Hello World!\")    \n",
    "\n",
    "\n"
   ]
  },
  {
   "cell_type": "code",
   "execution_count": 17,
   "metadata": {},
   "outputs": [
    {
     "name": "stdout",
     "output_type": "stream",
     "text": [
      "strings have quotes and variables have names\n"
     ]
    }
   ],
   "source": [
    "# [ ] fix the error \n",
    "print(\"strings have quotes and variables have names\")\n",
    "\n"
   ]
  },
  {
   "cell_type": "code",
   "execution_count": 18,
   "metadata": {},
   "outputs": [
    {
     "name": "stdout",
     "output_type": "stream",
     "text": [
      "I have $5\n"
     ]
    }
   ],
   "source": [
    "# [ ] fix the error \n",
    "print( \"I have $\" + \"5\")\n",
    "\n"
   ]
  },
  {
   "cell_type": "code",
   "execution_count": 19,
   "metadata": {},
   "outputs": [
    {
     "name": "stdout",
     "output_type": "stream",
     "text": [
      "always save the notebook\n"
     ]
    }
   ],
   "source": [
    "# [ ] fix the error \n",
    "print(\"always save the notebook\")\n",
    "      \n"
   ]
  },
  {
   "cell_type": "markdown",
   "metadata": {
    "collapsed": true
   },
   "source": [
    "## ASCII art\n",
    "- **[ ]** Display first name or initials as ASCII Art\n",
    "- **[ ]** Challenge: insert an additional code cell to make an ASCII picture"
   ]
  },
  {
   "cell_type": "code",
   "execution_count": 47,
   "metadata": {},
   "outputs": [
    {
     "name": "stdout",
     "output_type": "stream",
     "text": [
      "TTTTTT    TTTTTT   \n",
      "  TT        TT     \n",
      "  TT        TT     \n",
      "  TT   ..   TT   ..\n",
      "  TT   ..   TT   ..\n",
      "\n"
     ]
    }
   ],
   "source": [
    "# [ ] ASCII ART\n",
    "\n",
    "print(\"TTTTTT    TTTTTT   \")   \n",
    "print(\"  TT        TT     \")\n",
    "print(\"  TT        TT     \") \n",
    "print(\"  TT        TT     \")\n",
    "print(\"  TT   ..   TT   ..\")\n",
    "print()"
   ]
  },
  {
   "cell_type": "code",
   "execution_count": 48,
   "metadata": {},
   "outputs": [
    {
     "name": "stdout",
     "output_type": "stream",
     "text": [
      "MMMMMMMMMMMMMMMMMMMMMMNNNNNNNNNNNNNNMNNmMMMMMMMMMMMMMMMMMMMMMMMMMMMMMMMMMdNMMMMMMMMMMMMMMMMMMMMMMMMM\n",
      "MMMMMMMMMMMMMMMMMMMMMMNNNNNNNNNNNMMMMMMMMMMMMMMMMMMMMMMMMMMMMMMMMMMMMMMMMMMMMMMMMMMMMMMMMMMMMMMMMMMM\n",
      "MMMMMMMMMMMMMMMMMMMMMMNNNNNNMMMMMMMMMMMMMMMMMMMMMMMMMMMMMMMMMMMMMMMMMMMMMMMMMMMMMMMMMMMMMMMMMMMMMMMM\n",
      "MMMMMMMMMMMMMMMMMMMMMMMMMMMMMMMMMMMMMMMNNMMMNMMNNNMMMMMMMMMMMMMMMMMMMMMMMMMMMMMMMMMMMMMMMMMMMMMMMMMM\n",
      "MMMMMMMMMMMMMMMMMMMMMMMMMMMMMMMMMMMNmNmmmNmdmNdhhddmNNNMMMMMMMMMMMMMMMMMMMMMMMMMMMMMMMMMMMMMMMMMMMMM\n",
      "MMMMMMMMMMMMMMMMMMMMMMMMMMMMMMMMMMNmddhhhhhyhysssyyhhdddmmmmmmmmmNNNNMMMMMMMMMMMMMMMMMMMMMMMMMMMMMMM\n",
      "MMMMMMMMMMMMMMMMMNMMMMMMMMMMMMMMMNmdhyyyyyyssssooooosssssssssssyyyyhdmmNMMMMMMMMMMMMMMMMMMMMMMMMMMMM\n",
      "MMMMMMMMMMMMMMMMMMMMMMMMMMMMMMMMNmmdhhyyysssoooo++++ooooooooosssssssyyyhmMMMMMMMMMMMMMMMMMMMMMMMMMMM\n",
      "MMMMMMMMMMMMMMNMMNMMMMMMMMMMMMMMNmmdhyyysssoooo++++++o+oooooooooossssyyyyhNMMMMMMMMMMMMMMMMMMMMMMMMM\n",
      "MMMMMMMMMMMMMMMMNNMMMMMMMMMMMMMMNNddhhyysssooo+++++++++oooooooooosssyhyssydMMMMMMMMMMMMMMMMMMMMMMMMM\n",
      "MMMMMMMMMMMMMMMNNNMMMMMMMMMMMMMMMNdhhhyysssooo+++++++++++oooooooossydyysssyhsshNMMMMMMMMMMMMMMMMMMMM\n",
      "MMMMMMMMMMMMMMMNNNMMMMMMMMMMMMMMNmhhhyyyssoo+++++++///++++ooooooysssyysoossyoosyNMMMMMMMMMMMMMMMMMMM\n",
      "MMMMMMMMMMMMMMNNNNMMMMMMMMMMMMMNddhhhhyysooo++++++++////++++++oyysoosys++ooysossmMMMMMMMMMMMMMMMMMMM\n",
      "MMMMMMMMMMMMMMNNNNMMMMMMMMMMMNmdhhhhhhyssoosooo++++++++++++++++ysooooys+++oysoooyMMMMMMMMMMMMMMMMMMM\n",
      "MMMMMMMMMMMMMMNNNNMMMMMMMMMMMmhhhhhhhhyssooosyhhhhyysoooo+++oooysooooyo++++so+++smMMMMMMMMMMMMMMMMMM\n",
      "MMMMMMMMMMMMMMMNNNMMMMMMMMMMMmhhhhhhhhhyyysssyyhdmNNmdhysooooosyso+++y++///so+++ooyyymMMMMMMMMMMMMMM\n",
      "MMMMMMMMMMMMMMNNNNMMMMMMMMMMMmhhhhhhhhhhddddhddddhddmmmhyso++oyyo+///s+////+s+//+oo++smMMMMMMMMMMMMM\n",
      "MMMMMMMMMMMMMNNNNNNNNNMNMMMMNdhyyyyyyhddmmmmNMmNhyhddhhhys+//+sy+////o+/////o////+o+++sNMNMMMMMMMMMM\n",
      "MMMMMMMMMMMMNNNNNmdmddmNNMMMNdhyyssssyyyyhyyhddhsoshhsosss+///oy+////++/////o/////o+/++hNNMMMMMMMMMM\n",
      "MMMMMMMMMMMNNNNNNNddyhdNNNMMmdhyssooooooosyssssssyyysooooo++///o+/////o/::::+/////o+///oNNMMMMMMMMMM\n",
      "MMMMMMMMMMMNNNNNNNdhsyyhdhmMmdhyssoo+++++/++ooooo+++++++++++///o+/////s/::::+/////++/://dNMMMMMMMMMN\n",
      "MMMMMMMMMMNNNNNNNNmhssssyshNNdhhyso++++++//////////////+++++///++::::/do/:::++::::/+:::/sNMMMMMMNMMN\n",
      "MMMMMMMMMMNNNNNNNNNdyyyssyomNmhhhyso+++/////////:::://++++++////+:---:ms/:::oy/:::/+////oNNMMMMNNNNN\n",
      "MMMMMMMMMMMNNNNNNNNNdhdsssshmNdhhyso+++/////////:::://++++++////+:--:/mo+:::+yo/::+o::::/mNNMMMNNMNM\n",
      "MMMMMMMMMMMNNNNNNNNNNNmhhyyhmmmhhyyso+++////::::::/:/+o+++++/:://:--:/h+/:--:/+/::/s/::::ymNMMMNNNNN\n",
      "MMMMMMMMMMNNNNNNNNNNNNNNmmNNNmmhyysso++o////:://::///so+++++/::///---::::::--::::::///:::+yhNMMNmdhd\n",
      "MMMMMMMMMNNNNNNNNNNNNNNNNNNNNNdhysssoo++///////////:/shhddhysoo++/:---:///+/--::::::::::::/dNMMMNNNM\n",
      "MMMMMMMMMNNNNNNNNNNNNMNNNNNNmNdhysosso++////////:::::/+osyhmmddho:--::+++/+o::::::-:::::::/mMMMMMMMM\n",
      "MMMMMMMMMNNNNNNNNNNNNMNNNNNNNNmhyssssoo+///////::://::::://ohhds//:://++++os::::::--:---:::+NMMMNMMM\n",
      "MMMMMMMMMNNNNNNNNNNNNMNNNNNMMNNdyssossso////////////::::::////o/+/:::/++oos+:::::::::::::::/hMMMMMMM\n",
      "MMMMMMMMMNNNNNNNNNNNMMNNNNNMMNNNdyssssss+///++osso++++++ossooy++s////+oshds////::::::::::::/sMMNMMMM\n",
      "MMMMMMMMMNMMNNNNNNNNMMNNNNMMMMMMNdhyssyyso++++++osyyyhyyyhhhhdos+/+oosyyys/::::///:::::::://sMMMMMMM\n",
      "MMMMMMMMMMMMNNNNNNNMMMMMMMMMMMMMMMNdhyyysso++//:://+oooo+ooooys+///+oo++///:::::::::::::::/+hMMMMMMM\n",
      "MMMMMMMMMMMMMMNNMMMMMMMMMMMMMMMMMMMMmdhyysoo+////////++oosssyho::::://++::/::::::--:::::::/+dMMMMMMM\n",
      "MMMMMMMMMMMNMNMMMMMMMMMMMMMMMMMMMMMMMNmhysoo++/////////+ooossy+:--::/:/+::/:::::-----::::////mMNdMMM\n",
      "MMMMMMMMMMMMMMMMMMMMMMMMMMMMMMMMMMMMMMMMmdyo+//////:::::////os+::---::::-:/:::::---::::::/o+-md/-yMM\n",
      "MMMMMMMMMMMMMMMMMMMMMMMMMMMMMMMMMMMMMMMMMMmhyo+////:::::////yms+//::-:-::///::::---:::::/+s+omd//hmm\n",
      "MMMMMMMMMMMMMMMMMMMMMMMMMMMMMMMMMMMMMMMMMMMMNdyo+++////++++odMNy+////:::///////::--:::://+dy+sh+shss\n",
      "MMMMMMMMMMMMMMMMMMMMMMMMMMMMMMMMMMMMMMMMMMMMMMNmhhyyyyyyhyydNMMNho++////////////:::::::/+sNmdmNmmmmN\n",
      "MMMMMMMMMMMMMMMMMMMMMMMMMMMMMMMMMMMMMMMMMMMMMMMMMMMMMMMMMNMMMMMMMmhsoo+++++++++/:://///+sdMdyyyyyyss\n",
      "MMMMMMMMMMMMMMMMMMMMMMMMMMMMMMMMMMMMMMMMMMMMMMMMMMMMMMMMMMMMMMMMMMNmhyysssooooo++oooossymMMy/sdhs+//\n",
      "MMMMMMMMMMMMMMMMMMMMMMMMMMMMMMMMMMMMMMMMMMMMMMMMMMMMMMMMMMMMMMMMMMMMNdhyyyyhhyyyysooosymNMm/:/dMMdo:\n",
      "MMMMMMMMMMMMMMMMMMMMMMMMMMMMMMMMMMMMMMMMMMMMMMMMMMMMMMMMMMMMMMMMMMMMMMNNNNNmdhyo+osydNMMMd//oshNMMMN\n",
      "MMMMMMMMMMMMMMMMMMMMMMMMMMMMMMMMMMMMMMMMMMMMMMMMMMMMMMMMMMMMMMMMMMMMMMMMMMNdyoooydNNMMMmhydNMMmsNMMM\n",
      "MMMMMMMMMMMMMMMMMMMMMMMMMMMMMMMMMMMMMMMMMMMMMMMMMMMMMMMMMMMMMMMMMMMMMMMMMMMMNmmmdNMMMMNNNMMMNy:/NNMM\n",
      "MMMMMMMMMMMMMMMMMMMMMMMMMMMMMMMMMMMMMMMMMMMMMMMMMMMMMMMMMMMMMMMMMMMMMMMMMMMMMMMMNMMMMMMMMNNds::+NNMM\n",
      "MMMMMMMMMMMMMMMMMMMMMMMMMMMMMMMMMMMMMMMMMMMMMMMMMMMMMMMMMMMMMMMMMMMMMMMMMMMMMMMMMMMMMMMNmdyo///yNNMM\n",
      "MMMMMMMMMMMMMMMMMMMMMMMMMMMMMMMMMMMMMMMMMMMMMMMMMMMMMMMMMMMMMMMMMMMMMMMMMMMMMMMMMMMMMMMNdyssosyNNNMM\n",
      "MMMMMMMMMMMMMMMMMMMMMMMMMMMMMMMMMMMMMMMMMMMMMMMMMMMMMMMMMMMMMMMMMMMMMMMMMMMMMMMMMMMMMMMMMNNNMMMMMMMM\n",
      "MMMMMMMMMMMMMMMMMMMMMMMMMMMMMMMMMMMMMMMMMMMMMMMMMMMMMMMMMMMMMMMMMMMMMMMMMMMMMMMMMMMMMMMMMMMMMMMMMMMM\n",
      "MMMMMMMMMMMMMMMMMMMMMMMMMMMMMMMMMMMMMMMMMMMMMMMMMMMMMMMMMMMMMMMMMMMMMMMMMMMMMMMMMMMMMMMMMMMMMMMMMMMM\n",
      "MMMMMMMMMMMMMMMMMMMMMMMMMMMMMMMMMMMMMMMMMMMMMMMMMMMMMMMMMMMMMMMMMMMMMMMMMMMMMMMMMMMMMMMMMMMMMMMMMMMM\n"
     ]
    }
   ],
   "source": [
    "# [ ] ASCII ART\n",
    "print(\"MMMMMMMMMMMMMMMMMMMMMMNNNNNNNNNNNNNNMNNmMMMMMMMMMMMMMMMMMMMMMMMMMMMMMMMMMdNMMMMMMMMMMMMMMMMMMMMMMMMM\")\n",
    "print(\"MMMMMMMMMMMMMMMMMMMMMMNNNNNNNNNNNMMMMMMMMMMMMMMMMMMMMMMMMMMMMMMMMMMMMMMMMMMMMMMMMMMMMMMMMMMMMMMMMMMM\")\n",
    "print(\"MMMMMMMMMMMMMMMMMMMMMMNNNNNNMMMMMMMMMMMMMMMMMMMMMMMMMMMMMMMMMMMMMMMMMMMMMMMMMMMMMMMMMMMMMMMMMMMMMMMM\")\n",
    "print(\"MMMMMMMMMMMMMMMMMMMMMMMMMMMMMMMMMMMMMMMNNMMMNMMNNNMMMMMMMMMMMMMMMMMMMMMMMMMMMMMMMMMMMMMMMMMMMMMMMMMM\")\n",
    "print(\"MMMMMMMMMMMMMMMMMMMMMMMMMMMMMMMMMMMNmNmmmNmdmNdhhddmNNNMMMMMMMMMMMMMMMMMMMMMMMMMMMMMMMMMMMMMMMMMMMMM\")\n",
    "print(\"MMMMMMMMMMMMMMMMMMMMMMMMMMMMMMMMMMNmddhhhhhyhysssyyhhdddmmmmmmmmmNNNNMMMMMMMMMMMMMMMMMMMMMMMMMMMMMMM\")\n",
    "print(\"MMMMMMMMMMMMMMMMMNMMMMMMMMMMMMMMMNmdhyyyyyyssssooooosssssssssssyyyyhdmmNMMMMMMMMMMMMMMMMMMMMMMMMMMMM\")\n",
    "print(\"MMMMMMMMMMMMMMMMMMMMMMMMMMMMMMMMNmmdhhyyysssoooo++++ooooooooosssssssyyyhmMMMMMMMMMMMMMMMMMMMMMMMMMMM\")\n",
    "print(\"MMMMMMMMMMMMMMNMMNMMMMMMMMMMMMMMNmmdhyyysssoooo++++++o+oooooooooossssyyyyhNMMMMMMMMMMMMMMMMMMMMMMMMM\")\n",
    "print(\"MMMMMMMMMMMMMMMMNNMMMMMMMMMMMMMMNNddhhyysssooo+++++++++oooooooooosssyhyssydMMMMMMMMMMMMMMMMMMMMMMMMM\")\n",
    "print(\"MMMMMMMMMMMMMMMNNNMMMMMMMMMMMMMMMNdhhhyysssooo+++++++++++oooooooossydyysssyhsshNMMMMMMMMMMMMMMMMMMMM\")\n",
    "print(\"MMMMMMMMMMMMMMMNNNMMMMMMMMMMMMMMNmhhhyyyssoo+++++++///++++ooooooysssyysoossyoosyNMMMMMMMMMMMMMMMMMMM\")\n",
    "print(\"MMMMMMMMMMMMMMNNNNMMMMMMMMMMMMMNddhhhhyysooo++++++++////++++++oyysoosys++ooysossmMMMMMMMMMMMMMMMMMMM\")\n",
    "print(\"MMMMMMMMMMMMMMNNNNMMMMMMMMMMMNmdhhhhhhyssoosooo++++++++++++++++ysooooys+++oysoooyMMMMMMMMMMMMMMMMMMM\")\n",
    "print(\"MMMMMMMMMMMMMMNNNNMMMMMMMMMMMmhhhhhhhhyssooosyhhhhyysoooo+++oooysooooyo++++so+++smMMMMMMMMMMMMMMMMMM\")\n",
    "print(\"MMMMMMMMMMMMMMMNNNMMMMMMMMMMMmhhhhhhhhhyyysssyyhdmNNmdhysooooosyso+++y++///so+++ooyyymMMMMMMMMMMMMMM\")\n",
    "print(\"MMMMMMMMMMMMMMNNNNMMMMMMMMMMMmhhhhhhhhhhddddhddddhddmmmhyso++oyyo+///s+////+s+//+oo++smMMMMMMMMMMMMM\")\n",
    "print(\"MMMMMMMMMMMMMNNNNNNNNNMNMMMMNdhyyyyyyhddmmmmNMmNhyhddhhhys+//+sy+////o+/////o////+o+++sNMNMMMMMMMMMM\")\n",
    "print(\"MMMMMMMMMMMMNNNNNmdmddmNNMMMNdhyyssssyyyyhyyhddhsoshhsosss+///oy+////++/////o/////o+/++hNNMMMMMMMMMM\")\n",
    "print(\"MMMMMMMMMMMNNNNNNNddyhdNNNMMmdhyssooooooosyssssssyyysooooo++///o+/////o/::::+/////o+///oNNMMMMMMMMMM\")\n",
    "print(\"MMMMMMMMMMMNNNNNNNdhsyyhdhmMmdhyssoo+++++/++ooooo+++++++++++///o+/////s/::::+/////++/://dNMMMMMMMMMN\")\n",
    "print(\"MMMMMMMMMMNNNNNNNNmhssssyshNNdhhyso++++++//////////////+++++///++::::/do/:::++::::/+:::/sNMMMMMMNMMN\")\n",
    "print(\"MMMMMMMMMMNNNNNNNNNdyyyssyomNmhhhyso+++/////////:::://++++++////+:---:ms/:::oy/:::/+////oNNMMMMNNNNN\")\n",
    "print(\"MMMMMMMMMMMNNNNNNNNNdhdsssshmNdhhyso+++/////////:::://++++++////+:--:/mo+:::+yo/::+o::::/mNNMMMNNMNM\")\n",
    "print(\"MMMMMMMMMMMNNNNNNNNNNNmhhyyhmmmhhyyso+++////::::::/:/+o+++++/:://:--:/h+/:--:/+/::/s/::::ymNMMMNNNNN\")\n",
    "print(\"MMMMMMMMMMNNNNNNNNNNNNNNmmNNNmmhyysso++o////:://::///so+++++/::///---::::::--::::::///:::+yhNMMNmdhd\")\n",
    "print(\"MMMMMMMMMNNNNNNNNNNNNNNNNNNNNNdhysssoo++///////////:/shhddhysoo++/:---:///+/--::::::::::::/dNMMMNNNM\")\n",
    "print(\"MMMMMMMMMNNNNNNNNNNNNMNNNNNNmNdhysosso++////////:::::/+osyhmmddho:--::+++/+o::::::-:::::::/mMMMMMMMM\")\n",
    "print(\"MMMMMMMMMNNNNNNNNNNNNMNNNNNNNNmhyssssoo+///////::://::::://ohhds//:://++++os::::::--:---:::+NMMMNMMM\")\n",
    "print(\"MMMMMMMMMNNNNNNNNNNNNMNNNNNMMNNdyssossso////////////::::::////o/+/:::/++oos+:::::::::::::::/hMMMMMMM\")\n",
    "print(\"MMMMMMMMMNNNNNNNNNNNMMNNNNNMMNNNdyssssss+///++osso++++++ossooy++s////+oshds////::::::::::::/sMMNMMMM\")\n",
    "print(\"MMMMMMMMMNMMNNNNNNNNMMNNNNMMMMMMNdhyssyyso++++++osyyyhyyyhhhhdos+/+oosyyys/::::///:::::::://sMMMMMMM\")\n",
    "print(\"MMMMMMMMMMMMNNNNNNNMMMMMMMMMMMMMMMNdhyyysso++//:://+oooo+ooooys+///+oo++///:::::::::::::::/+hMMMMMMM\")\n",
    "print(\"MMMMMMMMMMMMMMNNMMMMMMMMMMMMMMMMMMMMmdhyysoo+////////++oosssyho::::://++::/::::::--:::::::/+dMMMMMMM\")\n",
    "print(\"MMMMMMMMMMMNMNMMMMMMMMMMMMMMMMMMMMMMMNmhysoo++/////////+ooossy+:--::/:/+::/:::::-----::::////mMNdMMM\")\n",
    "print(\"MMMMMMMMMMMMMMMMMMMMMMMMMMMMMMMMMMMMMMMMmdyo+//////:::::////os+::---::::-:/:::::---::::::/o+-md/-yMM\")\n",
    "print(\"MMMMMMMMMMMMMMMMMMMMMMMMMMMMMMMMMMMMMMMMMMmhyo+////:::::////yms+//::-:-::///::::---:::::/+s+omd//hmm\")\n",
    "print(\"MMMMMMMMMMMMMMMMMMMMMMMMMMMMMMMMMMMMMMMMMMMMNdyo+++////++++odMNy+////:::///////::--:::://+dy+sh+shss\")\n",
    "print(\"MMMMMMMMMMMMMMMMMMMMMMMMMMMMMMMMMMMMMMMMMMMMMMNmhhyyyyyyhyydNMMNho++////////////:::::::/+sNmdmNmmmmN\")\n",
    "print(\"MMMMMMMMMMMMMMMMMMMMMMMMMMMMMMMMMMMMMMMMMMMMMMMMMMMMMMMMMNMMMMMMMmhsoo+++++++++/:://///+sdMdyyyyyyss\")\n",
    "print(\"MMMMMMMMMMMMMMMMMMMMMMMMMMMMMMMMMMMMMMMMMMMMMMMMMMMMMMMMMMMMMMMMMMNmhyysssooooo++oooossymMMy/sdhs+//\")\n",
    "print(\"MMMMMMMMMMMMMMMMMMMMMMMMMMMMMMMMMMMMMMMMMMMMMMMMMMMMMMMMMMMMMMMMMMMMNdhyyyyhhyyyysooosymNMm/:/dMMdo:\")\n",
    "print(\"MMMMMMMMMMMMMMMMMMMMMMMMMMMMMMMMMMMMMMMMMMMMMMMMMMMMMMMMMMMMMMMMMMMMMMNNNNNmdhyo+osydNMMMd//oshNMMMN\")\n",
    "print(\"MMMMMMMMMMMMMMMMMMMMMMMMMMMMMMMMMMMMMMMMMMMMMMMMMMMMMMMMMMMMMMMMMMMMMMMMMMNdyoooydNNMMMmhydNMMmsNMMM\")\n",
    "print(\"MMMMMMMMMMMMMMMMMMMMMMMMMMMMMMMMMMMMMMMMMMMMMMMMMMMMMMMMMMMMMMMMMMMMMMMMMMMMNmmmdNMMMMNNNMMMNy:/NNMM\")\n",
    "print(\"MMMMMMMMMMMMMMMMMMMMMMMMMMMMMMMMMMMMMMMMMMMMMMMMMMMMMMMMMMMMMMMMMMMMMMMMMMMMMMMMNMMMMMMMMNNds::+NNMM\")\n",
    "print(\"MMMMMMMMMMMMMMMMMMMMMMMMMMMMMMMMMMMMMMMMMMMMMMMMMMMMMMMMMMMMMMMMMMMMMMMMMMMMMMMMMMMMMMMNmdyo///yNNMM\")\n",
    "print(\"MMMMMMMMMMMMMMMMMMMMMMMMMMMMMMMMMMMMMMMMMMMMMMMMMMMMMMMMMMMMMMMMMMMMMMMMMMMMMMMMMMMMMMMNdyssosyNNNMM\")\n",
    "print(\"MMMMMMMMMMMMMMMMMMMMMMMMMMMMMMMMMMMMMMMMMMMMMMMMMMMMMMMMMMMMMMMMMMMMMMMMMMMMMMMMMMMMMMMMMNNNMMMMMMMM\")\n",
    "print(\"MMMMMMMMMMMMMMMMMMMMMMMMMMMMMMMMMMMMMMMMMMMMMMMMMMMMMMMMMMMMMMMMMMMMMMMMMMMMMMMMMMMMMMMMMMMMMMMMMMMM\")\n",
    "print(\"MMMMMMMMMMMMMMMMMMMMMMMMMMMMMMMMMMMMMMMMMMMMMMMMMMMMMMMMMMMMMMMMMMMMMMMMMMMMMMMMMMMMMMMMMMMMMMMMMMMM\")\n",
    "print(\"MMMMMMMMMMMMMMMMMMMMMMMMMMMMMMMMMMMMMMMMMMMMMMMMMMMMMMMMMMMMMMMMMMMMMMMMMMMMMMMMMMMMMMMMMMMMMMMMMMMM\")"
   ]
  },
  {
   "cell_type": "markdown",
   "metadata": {},
   "source": []
  }
 ],
 "metadata": {
  "anaconda-cloud": {},
  "kernelspec": {
   "display_name": "Python 3",
   "language": "python",
   "name": "python3"
  },
  "language_info": {
   "codemirror_mode": {
    "name": "ipython",
    "version": 3
   },
   "file_extension": ".py",
   "mimetype": "text/x-python",
   "name": "python",
   "nbconvert_exporter": "python",
   "pygments_lexer": "ipython3",
   "version": "3.7.0"
  }
 },
 "nbformat": 4,
 "nbformat_minor": 1
}
