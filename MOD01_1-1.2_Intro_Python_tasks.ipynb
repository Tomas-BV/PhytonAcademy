{
 "cells": [
  {
   "cell_type": "markdown",
   "metadata": {},
   "source": [
    "# &nbsp;\n",
    "<font size=\"6\" color=\"#B24C00\"  face=\"verdana\"> <B>Task 1</B></font>    \n",
    "## print messages with \"double quotes\" and 'single' quotes"
   ]
  },
  {
   "cell_type": "code",
   "execution_count": null,
   "metadata": {
    "collapsed": true
   },
   "outputs": [],
   "source": [
    "# enter a string in the print() function using single quotes\n",
    "print(\"Let's do it together, Mister 1, Mister 2, Mister 3? \")\n",
    "# enter a string in the print() function using double quotes\n",
    "print('No, Mister @, we would like to stand 1 by 1')\n"
   ]
  },
  {
   "cell_type": "markdown",
   "metadata": {},
   "source": [
    "# &nbsp;\n",
    "<font size=\"6\" color=\"#B24C00\"  face=\"verdana\"> <B>Task 2</B></font> \n",
    "- **print Integers**\n",
    "- ** print strings made of Integer characters**"
   ]
  },
  {
   "cell_type": "code",
   "execution_count": null,
   "metadata": {
    "collapsed": true
   },
   "outputs": [],
   "source": [
    "# print an Integer\n",
    "print(1009)\n",
    "\n",
    "# print a strings made of Integer characters\n",
    "print(\"1009\")\n"
   ]
  },
  {
   "cell_type": "code",
   "execution_count": null,
   "metadata": {},
   "outputs": [],
   "source": []
  },
  {
   "cell_type": "markdown",
   "metadata": {},
   "source": [
    "# &nbsp;\n",
    "<font size=\"6\" color=\"#B24C00\"  face=\"verdana\"> <B>Task 3</B></font> \n",
    "## Program: assigning values to a string\n",
    "- in the cell below\n",
    "  - print the variable current_msg  \n",
    "  - assign a new string to current_msg  \n",
    "  - print the variable  current_msg again\n",
    "- run the code cell above and then run the cell below"
   ]
  },
  {
   "cell_type": "code",
   "execution_count": null,
   "metadata": {},
   "outputs": [],
   "source": [
    "# [ ] Review code and Run\n",
    "# assign a new string to the current_msg\n",
    "current_msg = \"Run this cell using Command+Enter\"\n",
    "\n",
    "print(current_msg)"
   ]
  },
  {
   "cell_type": "code",
   "execution_count": null,
   "metadata": {
    "collapsed": true
   },
   "outputs": [],
   "source": [
    "# run cell above then run this cell after completing the code as directed\n",
    "print(current_msg)\n",
    "current_msg = \"Reassigning values in Python\"\n",
    "print(current_msg)"
   ]
  },
  {
   "cell_type": "markdown",
   "metadata": {},
   "source": [
    "**Q?:** In the cell above, why did the variable have a value to print before it was assigned?  \n",
    "  \n",
    "Jupyter notebooks run cells individually.  Any cell in the notebook can access a variable assigned from a cell that has been run in the current notebook session."
   ]
  },
  {
   "cell_type": "markdown",
   "metadata": {},
   "source": [
    "# &nbsp;\n",
    "<font size=\"6\" color=\"#B24C00\"  face=\"verdana\"> <B>Task 4: multi-part</B></font> \n",
    "## Assign a variable and print the value\n",
    "- assign a string value to a variable **`student_name`**\n",
    "- print the value of variable **`student_name`**"
   ]
  },
  {
   "cell_type": "code",
   "execution_count": null,
   "metadata": {
    "collapsed": true,
    "slideshow": {
     "slide_type": "subslide"
    }
   },
   "outputs": [],
   "source": [
    "# [ ] assign a string value to a variable student_name\n",
    "student_name = \"Tomas Taskauskas\"\n",
    "# [ ] print the value of variable student_name\n",
    "print(student_name)\n"
   ]
  },
  {
   "cell_type": "markdown",
   "metadata": {},
   "source": [
    "<font size=\"3\" color=\"#B24C00\"  face=\"verdana\"> <B>Tasks 4 cont...</B></font> \n",
    "##  modified the value of a variable\n",
    "- assign the **`student_name`** variable  a different string value (a different name)\n",
    "- print the value of variable **`student_name`**\n",
    "- assign and print a 3rd value to **`student_name`**"
   ]
  },
  {
   "cell_type": "code",
   "execution_count": null,
   "metadata": {
    "collapsed": true
   },
   "outputs": [],
   "source": [
    "# [ ] assign the student_name variable  a different string value (a different name)\n",
    "student_name = \"Vardenis Pavardenis\"\n",
    "# [ ] print the value of variable student_name\n",
    "print(student_name)\n",
    "# [ ] assign a 3rd different string value, to the variable name \n",
    "student_name = \"John Smith\"\n",
    "# [ ] print the value of variable name\n",
    "print(student_name)\n"
   ]
  },
  {
   "cell_type": "markdown",
   "metadata": {},
   "source": [
    "<font size=\"3\" color=\"#B24C00\"  face=\"verdana\"> <B>Tasks 4 cont...</B></font> \n",
    "##  change variable type with reassignment\n",
    "- assigning a value to a variable called **`bucket`**\n",
    "- print the value of **`bucket`**\n",
    "- assign an Integer value (no quotes) to the variable **`bucket`**\n",
    "-  print the value of **`bucket`** "
   ]
  },
  {
   "cell_type": "code",
   "execution_count": null,
   "metadata": {
    "collapsed": true
   },
   "outputs": [],
   "source": [
    "# [ ] assigning a value to a variable called bucket\n",
    "bucket = \"a noun\"\n",
    "# [ ] print the value of bucket \n",
    "print(bucket)\n",
    "# [ ] assign an Integer value (no quotes) to the variable bucket\n",
    "bucket = \"100\"\n",
    "# [ ] print the value of bucket \n",
    "print(bucket)\n",
    "\n"
   ]
  },
  {
   "cell_type": "markdown",
   "metadata": {
    "slideshow": {
     "slide_type": "subslide"
    }
   },
   "source": [
    "## Q?: What is the difference between `123` and  `'123'`?  \n",
    "  \n",
    "**A:** A String type **is not** a number, even if it  is all numeric digits\n",
    "* in Python code a number can be assigned to a variable: `x = 31`\n",
    "* a string of digits can be assigned to the variable **`id`**&nbsp; --> `id = \"001023\"`&nbsp; the quotations, mean the number symbols should be stored in the variable as **type** string, meaning the digits&nbsp;\"`001023`\"&nbsp; are treated as text\n",
    "    \n",
    "The **`print()`** function can print Integer or string values:\n",
    "```python\n",
    "print(123) #integer, with numeric value\n",
    "print(\"123\") #string, represents text characters\n",
    "```  \n",
    "<font size=\"3\" color=\"#B24C00\"  face=\"verdana\"> <B>Tasks 4 cont...</B></font> \n",
    "- run the above code the next cell:  "
   ]
  },
  {
   "cell_type": "code",
   "execution_count": null,
   "metadata": {
    "collapsed": true
   },
   "outputs": [],
   "source": [
    "# [ ] print integer 123 number\n",
    "print(123)\n",
    "# [ ] print string \"123\" number\n",
    "print(\"123\")"
   ]
  }
 ],
 "metadata": {
  "anaconda-cloud": {},
  "kernelspec": {
   "display_name": "Python 3",
   "language": "python",
   "name": "python3"
  },
  "language_info": {
   "codemirror_mode": {
    "name": "ipython",
    "version": 3
   },
   "file_extension": ".py",
   "mimetype": "text/x-python",
   "name": "python",
   "nbconvert_exporter": "python",
   "pygments_lexer": "ipython3",
   "version": "3.5.1"
  }
 },
 "nbformat": 4,
 "nbformat_minor": 1
}
